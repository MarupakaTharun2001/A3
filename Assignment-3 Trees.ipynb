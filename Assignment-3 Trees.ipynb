{
 "cells": [
  {
   "cell_type": "markdown",
   "id": "35ea168b",
   "metadata": {},
   "source": [
    "Assignment-3: Trees\n"
   ]
  },
  {
   "cell_type": "markdown",
   "id": "ca02dbd5",
   "metadata": {},
   "source": [
    "1Implement Binary tree\n"
   ]
  },
  {
   "cell_type": "code",
   "execution_count": 1,
   "id": "d16dfdf6",
   "metadata": {},
   "outputs": [
    {
     "name": "stdout",
     "output_type": "stream",
     "text": [
      "A\n",
      "B\n",
      "C\n",
      "D\n",
      "E\n",
      "-\n",
      "F\n",
      "-\n"
     ]
    }
   ],
   "source": [
    "tree = [None] * 10\n",
    "\n",
    "\n",
    "def root(key):\n",
    "    if tree[0] != None:\n",
    "        print(\"Tree already had root\")\n",
    "    else:\n",
    "        tree[0] = key\n",
    "\n",
    "\n",
    "def set_left(key, parent):\n",
    "    if tree[parent] == None:\n",
    "        print(\"Can't set child at\", (parent * 2) + 1, \", no parent found\")\n",
    "    else:\n",
    "        tree[(parent * 2) + 1] = key\n",
    "\n",
    "\n",
    "def set_right(key, parent):\n",
    "    if tree[parent] == None:\n",
    "        print(\"Can't set child at\", (parent * 2) + 2, \", no parent found\")\n",
    "    else:\n",
    "        tree[(parent * 2) + 2] = key\n",
    "\n",
    "\n",
    "def print_tree():\n",
    "     for i in range(8):\n",
    "        if tree[i] != None:\n",
    "            print(tree[i], end='')\n",
    "        else:\n",
    "            print(\"-\",end='')\n",
    "        print()\n",
    "\n",
    "if __name__=='__main__':\n",
    "    root('A')\n",
    "    set_left('B', 0)\n",
    "    set_right('C', 0)\n",
    "    set_left('D', 1)\n",
    "    set_right('E', 1)\n",
    "    set_right('F', 2)\n",
    "    print_tree()\n"
   ]
  },
  {
   "cell_type": "markdown",
   "id": "2a75f9a1",
   "metadata": {},
   "source": [
    "2 Perform Pre-order, Post-order, In-order traversal\n"
   ]
  },
  {
   "cell_type": "code",
   "execution_count": 2,
   "id": "0619be8c",
   "metadata": {},
   "outputs": [
    {
     "name": "stdout",
     "output_type": "stream",
     "text": [
      "Height(Depth) of tree is: 4\n"
     ]
    }
   ],
   "source": [
    "class TreeNode:\n",
    "    def __init__(self, val):\n",
    "        self.val = val\n",
    "        self.left = None\n",
    "        self.right = None\n",
    "def height(root):\n",
    "        if root is None:\n",
    "            return 0 \n",
    "        leftAns = height(root.left)\n",
    "        rightAns = height(root.right)\n",
    "        return max(leftAns, rightAns) + 1\n",
    "    \n",
    "if __name__=='__main__':\n",
    "    root = TreeNode(1)\n",
    "    root.left = TreeNode(2)\n",
    "    root.right = TreeNode(3)\n",
    "    root.left.left = TreeNode(4)\n",
    "    root.left.right=TreeNode(5)\n",
    "    root.right.left=TreeNode(6)\n",
    "    root.right.right=TreeNode(7)\n",
    "    root.right.left.left=TreeNode(8)\n",
    "    root.right.left.right=TreeNode(9)\n",
    "\n",
    "print(f\"Height(Depth) of tree is: {height(root)}\")\n",
    "\n"
   ]
  },
  {
   "cell_type": "markdown",
   "id": "d5b2a823",
   "metadata": {},
   "source": [
    "3.Perform Pre-order, Post-order, In-order traversal\n"
   ]
  },
  {
   "cell_type": "code",
   "execution_count": 3,
   "id": "30033e58",
   "metadata": {},
   "outputs": [
    {
     "name": "stdout",
     "output_type": "stream",
     "text": [
      "\n",
      "preorder traversal of binary tree is\n",
      "1 2 4 5 3 6 7 \n",
      "Inorder traversal of binary tree is\n",
      "4 2 5 1 6 3 7 \n",
      "preorder traversal of binary tree is\n",
      "4 5 2 6 7 3 1 "
     ]
    }
   ],
   "source": [
    "class Node:\n",
    "    \n",
    "    def __init__(self,data):\n",
    "            self.left=None\n",
    "            self.right=None\n",
    "            self.data=data\n",
    "            \n",
    "def preorderprint(root):\n",
    "    if root:\n",
    "        print(root.data,end=\" \"),\n",
    "        preorderprint(root.left)\n",
    "        preorderprint(root.right)\n",
    "\n",
    "def inorderprint(root):\n",
    "    if root:\n",
    "        inorderprint(root.left)\n",
    "        print(root.data,end=\" \"),\n",
    "        inorderprint(root.right)\n",
    "                    \n",
    "def postorderprint(root):\n",
    "    if root:\n",
    "        postorderprint(root.left)\n",
    "        postorderprint(root.right)\n",
    "        print(root.data,end=\" \")\n",
    "\n",
    "\n",
    "            \n",
    "if __name__ == \"__main__\":\n",
    "    root = Node(1)\n",
    "    root.left = Node(2)\n",
    "    root.right = Node(3)\n",
    "    root.left.left = Node(4)\n",
    "    root.left.right = Node(5)\n",
    "    root.right.left=Node(6)\n",
    "    root.right.right=Node(7)\n",
    "    \n",
    "    print(\"\\npreorder traversal of binary tree is\")\n",
    "    preorderprint(root)   \n",
    "    \n",
    "    print(\"\\nInorder traversal of binary tree is\")\n",
    "    inorderprint(root)  \n",
    "    \n",
    "    print(\"\\npreorder traversal of binary tree is\")\n",
    "    postorderprint(root)  \n",
    "    "
   ]
  },
  {
   "cell_type": "markdown",
   "id": "3cce3e42",
   "metadata": {},
   "source": [
    "4.Function to print all the leaves in a given binary tree\n"
   ]
  },
  {
   "cell_type": "code",
   "execution_count": 4,
   "id": "a7f45dd6",
   "metadata": {},
   "outputs": [
    {
     "name": "stdout",
     "output_type": "stream",
     "text": [
      "\n",
      "Leaves of binary tree is\n",
      "10 11 5 8 9 7 "
     ]
    }
   ],
   "source": [
    "\n",
    "class Node:\n",
    "\n",
    "    def __init__(self, data):\n",
    "        self.data = data\n",
    "        self.left = None\n",
    "        self.right = None\n",
    "\n",
    "\n",
    "def printLeafNodes(root: Node) -> None:\n",
    "\n",
    "    if (not root):\n",
    "        return\n",
    "\n",
    "    if (not root.left and not root.right):\n",
    "            print(root.data,end = \" \")\n",
    "            return\n",
    "\n",
    "\n",
    "    if root.left:\n",
    "        printLeafNodes(root.left)\n",
    "\n",
    "    if root.right:\n",
    "        printLeafNodes(root.right)\n",
    "\n",
    "if __name__=='__main__':\n",
    "    root = Node(1)\n",
    "    root.left = Node(2)\n",
    "    root.right = Node(3)\n",
    "    root.left.left = Node(4)\n",
    "    root.left.right= Node(5)\n",
    "    root.right.left= Node(6)\n",
    "    root.right.right=Node(7)\n",
    "    root.right.left.left=Node(8)\n",
    "    root.right.left.right=Node(9)\n",
    "    root.left.left.left= Node(10)\n",
    "    root.left.left.right= Node(11)\n",
    "    print(\"\\nLeaves of binary tree is\")\n",
    "\n",
    "    printLeafNodes(root)"
   ]
  },
  {
   "cell_type": "markdown",
   "id": "cc6833c2",
   "metadata": {},
   "source": [
    "5.Implement BFS (Breath First Search) and DFS (Depth First Search)\n"
   ]
  },
  {
   "cell_type": "code",
   "execution_count": 5,
   "id": "2ffb713a",
   "metadata": {},
   "outputs": [
    {
     "name": "stdout",
     "output_type": "stream",
     "text": [
      "Level order traversal of binary tree is :\n",
      "1 2 3 4 15 68 7 \n",
      "preorder traversal of binary tree is\n",
      "1 2 4 15 3 68 7 \n",
      "Inorder traversal of binary tree is\n",
      "4 2 15 1 68 3 7 \n",
      "preorder traversal of binary tree is\n",
      "4 15 2 68 7 3 1 "
     ]
    }
   ],
   "source": [
    "class Node:\n",
    "    def __init__(self, key):\n",
    "        self.data = key\n",
    "        self.left = None\n",
    "        self.right = None\n",
    "\n",
    "\n",
    "def printLevelOrder(root):\n",
    "    if root is None:\n",
    "        return\n",
    " \n",
    "    queue = []\n",
    "    queue.append(root)\n",
    " \n",
    "    while(len(queue) > 0):\n",
    " \n",
    "        print(queue[0].data, end=\" \")\n",
    "        node = queue.pop(0)\n",
    " \n",
    "        if node.left is not None:\n",
    "            queue.append(node.left)\n",
    " \n",
    "        if node.right is not None:\n",
    "            queue.append(node.right)\n",
    "            \n",
    "def printdepthOrder(root):\n",
    "    if root is None:\n",
    "        return\n",
    "    stack=[]\n",
    "    stack.append(root)\n",
    "            \n",
    "def preorderprint(root):\n",
    "    if root:\n",
    "        print(root.data,end=\" \"),\n",
    "        preorderprint(root.left)\n",
    "        preorderprint(root.right)\n",
    "\n",
    "def inorderprint(root):\n",
    "    if root:\n",
    "        inorderprint(root.left)\n",
    "        print(root.data,end=\" \"),\n",
    "        inorderprint(root.right)\n",
    "                    \n",
    "def postorderprint(root):\n",
    "    if root:\n",
    "        postorderprint(root.left)\n",
    "        postorderprint(root.right)\n",
    "        print(root.data,end=\" \")\n",
    "    \n",
    "\n",
    "if __name__ == '__main__':\n",
    "    root = Node(1)\n",
    "    root.left = Node(2)\n",
    "    root.right = Node(3)\n",
    "    root.left.left = Node(4)\n",
    "    root.left.right = Node(15)\n",
    "    root.right.left=Node(68)\n",
    "    root.right.right=Node(7)\n",
    "    print(\"Level order traversal of binary tree is :\")\n",
    "    printLevelOrder(root)\n",
    "    print(\"\\npreorder traversal of binary tree is\")\n",
    "    preorderprint(root)   \n",
    "    print(\"\\nInorder traversal of binary tree is\")\n",
    "    inorderprint(root)  \n",
    "    print(\"\\npreorder traversal of binary tree is\")\n",
    "    postorderprint(root)  \n",
    "    \n",
    "\n"
   ]
  },
  {
   "cell_type": "markdown",
   "id": "10d1d524",
   "metadata": {},
   "source": [
    "6.Find sum of all left leaves in a given Binary Tree\n"
   ]
  },
  {
   "cell_type": "code",
   "execution_count": 6,
   "id": "99dd7475",
   "metadata": {},
   "outputs": [
    {
     "name": "stdout",
     "output_type": "stream",
     "text": [
      "sum of node in given tree : 50\n"
     ]
    }
   ],
   "source": [
    "global total\n",
    "class Node:\n",
    "    def __init__(self, data):\n",
    "        self.data = data\n",
    "        self.left = None\n",
    "        self.right = None\n",
    "        \n",
    "def leafSum(root):\n",
    "    global total\n",
    "    if root is None:\n",
    "        return\n",
    "    if (root.left is None and root.right is None):\n",
    "            total += root.data\n",
    "    leafSum(root.left)\n",
    "    leafSum(root.right)\n",
    "\n",
    "if __name__=='__main__':\n",
    "    root = Node(1)\n",
    "    root.left = Node(2)\n",
    "    root.right = Node(3)\n",
    "    root.left.left = Node(4)\n",
    "    root.left.right= Node(5)\n",
    "    root.right.left= Node(6)\n",
    "    root.right.right=Node(7)\n",
    "    root.right.left.left=Node(8)\n",
    "    root.right.left.right=Node(9)\n",
    "    root.left.left.left= Node(10)\n",
    "    root.left.left.right= Node(11)\n",
    "    total=0\n",
    "\n",
    "    leafSum(root)\n",
    "    print(\"sum of node in given tree :\",total)\n"
   ]
  },
  {
   "cell_type": "markdown",
   "id": "483eda68",
   "metadata": {},
   "source": [
    "7.Find sum of all nodes of the given perfect binary tree\n"
   ]
  },
  {
   "cell_type": "code",
   "execution_count": 7,
   "id": "7073a48f",
   "metadata": {},
   "outputs": [
    {
     "name": "stdout",
     "output_type": "stream",
     "text": [
      "sum of node in given tree : 21\n"
     ]
    }
   ],
   "source": [
    "global total\n",
    "class Node:\n",
    "    def __init__(self, data):\n",
    "        self.data = data\n",
    "        self.left = None\n",
    "        self.right = None\n",
    "        \n",
    "def nodeSum(root):\n",
    "    global total\n",
    "    if root is None:\n",
    "        return\n",
    "    if (root.left is not None and root.right is not None):\n",
    "            total += root.data\n",
    "    nodeSum(root.left)\n",
    "    nodeSum(root.right)\n",
    "\n",
    "if __name__=='__main__':\n",
    "    root = Node(1)\n",
    "    root.left = Node(2)\n",
    "    root.right = Node(3)\n",
    "    root.left.left = Node(4)\n",
    "    root.left.right= Node(5)\n",
    "    root.right.left= Node(6)\n",
    "    root.right.right=Node(7)\n",
    "    root.right.left.left=Node(8)\n",
    "    root.right.left.right=Node(9)\n",
    "    root.left.left.left= Node(10)\n",
    "    root.left.left.right= Node(11)\n",
    "    root.left.right.left=Node(12)\n",
    "    root.left.right.right=Node(13)\n",
    "    total=0\n",
    "\n",
    "    nodeSum(root)\n",
    "    print(\"sum of node in given tree :\",total)\n"
   ]
  },
  {
   "cell_type": "markdown",
   "id": "3589200b",
   "metadata": {},
   "source": [
    "8.Count subtress that sum up to a given value x in a binary tree\n"
   ]
  },
  {
   "cell_type": "code",
   "execution_count": 8,
   "id": "02747515",
   "metadata": {},
   "outputs": [
    {
     "name": "stdout",
     "output_type": "stream",
     "text": [
      "enter the sum value:5\n",
      "sum of subtree in given tree : 1\n"
     ]
    }
   ],
   "source": [
    "class Node:\n",
    "    def __init__(self, data):\n",
    "        self.data = data\n",
    "        self.left = None\n",
    "        self.right = None\n",
    "        \n",
    "def countsubtree(root,count,x):\n",
    "    if (not root):\n",
    "        return 0\n",
    "    ls=countsubtree(root.left,count,x)\n",
    "    rs=countsubtree(root.right,count,x)\n",
    "    sum=ls+rs+root.data\n",
    "    if(sum==x):\n",
    "        count[0]+=1\n",
    "    return sum\n",
    "\n",
    "\n",
    "def checkcountsubtree(root,x):\n",
    "    if(not root):\n",
    "        return  0\n",
    "    count=[0]\n",
    "    ls=countsubtree(root.left,count,x)\n",
    "    rs=countsubtree(root.right,count,x)\n",
    "    if((ls+rs+root.data)==x):\n",
    "        count[0]+=1\n",
    "    return count[0]\n",
    "\n",
    "if __name__=='__main__':\n",
    "    root = Node(1)\n",
    "    root.left = Node(-5)\n",
    "    root.right = Node(2)\n",
    "    root.left.left = Node(4)\n",
    "    root.left.right= Node(5)\n",
    "    root.right.left= Node(6)\n",
    "    root.right.right=Node(4)\n",
    "\n",
    "    x=int(input(\"enter the sum value:\"))\n",
    "    print(\"sum of subtree in given tree :\",checkcountsubtree(root,x))\n",
    "\n",
    "    "
   ]
  },
  {
   "cell_type": "markdown",
   "id": "bb112dbb",
   "metadata": {},
   "source": [
    "9Find maximum level sum in Binary Tree\n"
   ]
  },
  {
   "cell_type": "code",
   "execution_count": 9,
   "id": "74cd7bfa",
   "metadata": {},
   "outputs": [
    {
     "name": "stdout",
     "output_type": "stream",
     "text": [
      "Maximum level sum is 22\n"
     ]
    }
   ],
   "source": [
    "class Node:\n",
    "    def __init__(self, data):\n",
    "        self.data = data\n",
    "        self.left = None\n",
    "        self.right = None\n",
    "        \n",
    "def dfs(root, level, maxx):\n",
    "    if not root:\n",
    "        return\n",
    "\n",
    "    maxx[level] = maxx.get(level, 0) + root.data\n",
    "    level += 1\n",
    "    dfs(root.left, level, maxx)\n",
    "    dfs(root.right, level, maxx)\n",
    "\n",
    "def maxLevelSum(root):\n",
    "    if not root:\n",
    "        return 0\n",
    "\n",
    "    maxx = {}\n",
    "\n",
    "    dfs(root, 0, maxx)\n",
    "    result = float('-inf')\n",
    "\n",
    "    for val in maxx.values():\n",
    "        result = max(result, val)\n",
    "\n",
    "    return result\n",
    "\n",
    "def newNode(data):\n",
    "    node = Node(data)\n",
    "    return node\n",
    "\n",
    "if __name__=='__main__':\n",
    "    root = Node(1)\n",
    "    root.left = Node(2)\n",
    "    root.right = Node(3)\n",
    "    root.left.left = Node(4)\n",
    "    root.left.right= Node(5)\n",
    "    root.right.left= Node(6)\n",
    "    root.right.right=Node(7)\n",
    "    root.right.left.left=Node(8)\n",
    "    root.right.left.right=Node(9)\n",
    "    print(\"Maximum level sum is\", maxLevelSum(root))\n"
   ]
  },
  {
   "cell_type": "markdown",
   "id": "28adbccd",
   "metadata": {},
   "source": [
    "10.Print the nodes at odd levels of a tree\n"
   ]
  },
  {
   "cell_type": "code",
   "execution_count": 10,
   "id": "2fd3ccf0",
   "metadata": {},
   "outputs": [
    {
     "name": "stdout",
     "output_type": "stream",
     "text": [
      "1 4 5 6 7 "
     ]
    }
   ],
   "source": [
    "class Node:\n",
    "    def __init__(self, data):\n",
    "        self.data = data\n",
    "        self.left = None\n",
    "        self.right = None\n",
    "\n",
    "def printoddnodes(root,isodd=True):\n",
    "    if(root==None):\n",
    "        return \n",
    "    if isodd:\n",
    "        print(root.data,end=\" \")\n",
    "    printoddnodes(root.left, not isodd)\n",
    "    printoddnodes(root.right, not isodd)\n",
    "        \n",
    "\n",
    "\n",
    "if __name__=='__main__':\n",
    "    root = Node(1)\n",
    "    root.left = Node(2)\n",
    "    root.right = Node(3)\n",
    "    root.left.left = Node(4)\n",
    "    root.left.right= Node(5)\n",
    "    root.right.left= Node(6)\n",
    "    root.right.right=Node(7)\n",
    "    root.right.left.left=Node(8)\n",
    "    root.right.left.right=Node(9)\n",
    "    printoddnodes(root)"
   ]
  },
  {
   "cell_type": "code",
   "execution_count": null,
   "id": "4934053d",
   "metadata": {},
   "outputs": [],
   "source": []
  }
 ],
 "metadata": {
  "kernelspec": {
   "display_name": "Python 3 (ipykernel)",
   "language": "python",
   "name": "python3"
  },
  "language_info": {
   "codemirror_mode": {
    "name": "ipython",
    "version": 3
   },
   "file_extension": ".py",
   "mimetype": "text/x-python",
   "name": "python",
   "nbconvert_exporter": "python",
   "pygments_lexer": "ipython3",
   "version": "3.9.7"
  }
 },
 "nbformat": 4,
 "nbformat_minor": 5
}
